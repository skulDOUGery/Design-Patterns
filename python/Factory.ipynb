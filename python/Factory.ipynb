{
 "cells": [
  {
   "cell_type": "code",
   "execution_count": 1,
   "id": "18c2013e-7df1-4ff8-8f94-5697b2baa8d4",
   "metadata": {},
   "outputs": [],
   "source": [
    "import iplantuml"
   ]
  },
  {
   "cell_type": "markdown",
   "id": "05dd8dd4-d2fd-4011-a62c-d61149c3e252",
   "metadata": {},
   "source": [
    "# Factory Pattern\n",
    "A Factory pattern Defines an interface for creating an object, but defers object instantiation to run time.\n",
    "- We don't always know what objects to create in advance\n",
    "    - Some objects can only be created at execution time\n",
    "    - The Factory pattern facilitates this\n",
    "## How the Factory pattern works (by example):\n",
    "- The __Shape__ interface is implemented by the concrete sub-classes (__Circle__, __Square__, and __Rectangle__)\n",
    "- The __ShapeFactory__ class has a method called `getShape()` which returns an instance of the concrete sub-classes: __Circle__, __Square__, or __Rectangle__"
   ]
  },
  {
   "cell_type": "code",
   "execution_count": 2,
   "id": "d30a7f9a-b7b1-4920-9fbe-08415de7ae17",
   "metadata": {
    "jupyter": {
     "source_hidden": true
    }
   },
   "outputs": [
    {
     "name": "stdout",
     "output_type": "stream",
     "text": [
      "Writing output for /home/doug/projects/Design-Patterns/python/a514585b-d660-4115-aded-3d635614862b.uml to a514585b-d660-4115-aded-3d635614862b.svg\n"
     ]
    },
    {
     "data": {
      "image/svg+xml": [
       "<svg xmlns=\"http://www.w3.org/2000/svg\" xmlns:xlink=\"http://www.w3.org/1999/xlink\" contentStyleType=\"text/css\" height=\"405px\" preserveAspectRatio=\"none\" style=\"width:706px;height:405px;background:#FFFFFF;\" version=\"1.1\" viewBox=\"0 0 706 405\" width=\"706px\" zoomAndPan=\"magnify\"><defs/><g><!--cluster shapes--><g id=\"cluster_shapes\"><path d=\"M8.5,142.3 L65.0967,142.3 A3.75,3.75 0 0 1 67.5967,144.8 L74.5967,164.5969 L459.5,164.5969 A2.5,2.5 0 0 1 462,167.0969 L462,396.39 A2.5,2.5 0 0 1 459.5,398.89 L8.5,398.89 A2.5,2.5 0 0 1 6,396.39 L6,144.8 A2.5,2.5 0 0 1 8.5,142.3 \" fill=\"none\" style=\"stroke:#000000;stroke-width:1.5;\"/><line style=\"stroke:#000000;stroke-width:1.5;\" x1=\"6\" x2=\"74.5967\" y1=\"164.5969\" y2=\"164.5969\"/><text fill=\"#000000\" font-family=\"sans-serif\" font-size=\"14\" font-weight=\"bold\" lengthAdjust=\"spacing\" textLength=\"55.5967\" x=\"10\" y=\"157.2951\">shapes</text></g><!--class Shape--><g id=\"elem_Shape\"><rect codeLine=\"2\" fill=\"#F1F1F1\" height=\"64.2969\" id=\"Shape\" rx=\"2.5\" ry=\"2.5\" style=\"stroke:#181818;stroke-width:0.5;\" width=\"110.3896\" x=\"174.81\" y=\"185.3\"/><ellipse cx=\"205.3579\" cy=\"201.3\" fill=\"#B4A7E5\" rx=\"11\" ry=\"11\" style=\"stroke:#181818;stroke-width:1.0;\"/><path d=\"M201.2797,197.0656 L201.2797,194.9094 L208.6704,194.9094 L208.6704,197.0656 L206.2016,197.0656 L206.2016,205.1437 L208.6704,205.1437 L208.6704,207.3 L201.2797,207.3 L201.2797,205.1437 L203.7485,205.1437 L203.7485,197.0656 L201.2797,197.0656 Z \" fill=\"#000000\"/><text fill=\"#000000\" font-family=\"sans-serif\" font-size=\"14\" font-style=\"italic\" lengthAdjust=\"spacing\" textLength=\"43.8389\" x=\"222.8129\" y=\"206.1467\">Shape</text><line style=\"stroke:#181818;stroke-width:0.5;\" x1=\"175.81\" x2=\"284.1996\" y1=\"217.3\" y2=\"217.3\"/><line style=\"stroke:#181818;stroke-width:0.5;\" x1=\"175.81\" x2=\"284.1996\" y1=\"225.3\" y2=\"225.3\"/><ellipse cx=\"185.81\" cy=\"238.9484\" fill=\"#84BE84\" rx=\"3\" ry=\"3\" style=\"stroke:#038048;stroke-width:1.0;\"/><text fill=\"#000000\" font-family=\"sans-serif\" font-size=\"14\" lengthAdjust=\"spacing\" textLength=\"84.3896\" x=\"194.81\" y=\"242.2951\">draw(): void</text></g><!--class Circle--><g id=\"elem_Circle\"><rect codeLine=\"14\" fill=\"#F1F1F1\" height=\"64.2969\" id=\"Circle\" rx=\"2.5\" ry=\"2.5\" style=\"stroke:#181818;stroke-width:0.5;\" width=\"110.3896\" x=\"29.81\" y=\"310.59\"/><ellipse cx=\"62.2558\" cy=\"326.59\" fill=\"#ADD1B2\" rx=\"11\" ry=\"11\" style=\"stroke:#181818;stroke-width:1.0;\"/><path d=\"M65.2246,332.2306 Q64.6465,332.5275 64.0058,332.6681 Q63.3652,332.8244 62.6621,332.8244 Q60.1621,332.8244 58.834,331.1838 Q57.5215,329.5275 57.5215,326.4025 Q57.5215,323.2775 58.834,321.6213 Q60.1621,319.965 62.6621,319.965 Q63.3652,319.965 64.0058,320.1213 Q64.6621,320.2775 65.2246,320.5744 L65.2246,323.2931 Q64.5996,322.715 64.0058,322.4494 Q63.4121,322.1681 62.7871,322.1681 Q61.4433,322.1681 60.7558,323.2463 Q60.0683,324.3088 60.0683,326.4025 Q60.0683,328.4963 60.7558,329.5744 Q61.4433,330.6369 62.7871,330.6369 Q63.4121,330.6369 64.0058,330.3713 Q64.5996,330.09 65.2246,329.5119 L65.2246,332.2306 Z \" fill=\"#000000\"/><text fill=\"#000000\" font-family=\"sans-serif\" font-size=\"14\" lengthAdjust=\"spacing\" textLength=\"39.6211\" x=\"80.1327\" y=\"331.4367\">Circle</text><line style=\"stroke:#181818;stroke-width:0.5;\" x1=\"30.81\" x2=\"139.1996\" y1=\"342.59\" y2=\"342.59\"/><line style=\"stroke:#181818;stroke-width:0.5;\" x1=\"30.81\" x2=\"139.1996\" y1=\"350.59\" y2=\"350.59\"/><ellipse cx=\"40.81\" cy=\"364.2384\" fill=\"#84BE84\" rx=\"3\" ry=\"3\" style=\"stroke:#038048;stroke-width:1.0;\"/><text fill=\"#000000\" font-family=\"sans-serif\" font-size=\"14\" lengthAdjust=\"spacing\" textLength=\"84.3896\" x=\"49.81\" y=\"367.5851\">draw(): void</text></g><!--class Square--><g id=\"elem_Square\"><rect codeLine=\"15\" fill=\"#F1F1F1\" height=\"64.2969\" id=\"Square\" rx=\"2.5\" ry=\"2.5\" style=\"stroke:#181818;stroke-width:0.5;\" width=\"110.3896\" x=\"174.81\" y=\"310.59\"/><ellipse cx=\"202.7677\" cy=\"326.59\" fill=\"#ADD1B2\" rx=\"11\" ry=\"11\" style=\"stroke:#181818;stroke-width:1.0;\"/><path d=\"M205.7365,332.2306 Q205.1583,332.5275 204.5177,332.6681 Q203.8771,332.8244 203.174,332.8244 Q200.674,332.8244 199.3458,331.1838 Q198.0333,329.5275 198.0333,326.4025 Q198.0333,323.2775 199.3458,321.6213 Q200.674,319.965 203.174,319.965 Q203.8771,319.965 204.5177,320.1213 Q205.174,320.2775 205.7365,320.5744 L205.7365,323.2931 Q205.1115,322.715 204.5177,322.4494 Q203.924,322.1681 203.299,322.1681 Q201.9552,322.1681 201.2677,323.2463 Q200.5802,324.3088 200.5802,326.4025 Q200.5802,328.4963 201.2677,329.5744 Q201.9552,330.6369 203.299,330.6369 Q203.924,330.6369 204.5177,330.3713 Q205.1115,330.09 205.7365,329.5119 L205.7365,332.2306 Z \" fill=\"#000000\"/><text fill=\"#000000\" font-family=\"sans-serif\" font-size=\"14\" lengthAdjust=\"spacing\" textLength=\"49.5947\" x=\"219.6472\" y=\"331.4367\">Square</text><line style=\"stroke:#181818;stroke-width:0.5;\" x1=\"175.81\" x2=\"284.1996\" y1=\"342.59\" y2=\"342.59\"/><line style=\"stroke:#181818;stroke-width:0.5;\" x1=\"175.81\" x2=\"284.1996\" y1=\"350.59\" y2=\"350.59\"/><ellipse cx=\"185.81\" cy=\"364.2384\" fill=\"#84BE84\" rx=\"3\" ry=\"3\" style=\"stroke:#038048;stroke-width:1.0;\"/><text fill=\"#000000\" font-family=\"sans-serif\" font-size=\"14\" lengthAdjust=\"spacing\" textLength=\"84.3896\" x=\"194.81\" y=\"367.5851\">draw(): void</text></g><!--class Rectangle--><g id=\"elem_Rectangle\"><rect codeLine=\"16\" fill=\"#F1F1F1\" height=\"64.2969\" id=\"Rectangle\" rx=\"2.5\" ry=\"2.5\" style=\"stroke:#181818;stroke-width:0.5;\" width=\"110.3896\" x=\"319.81\" y=\"310.59\"/><ellipse cx=\"338.4192\" cy=\"326.59\" fill=\"#ADD1B2\" rx=\"11\" ry=\"11\" style=\"stroke:#181818;stroke-width:1.0;\"/><path d=\"M341.388,332.2306 Q340.8099,332.5275 340.1692,332.6681 Q339.5286,332.8244 338.8255,332.8244 Q336.3255,332.8244 334.9974,331.1838 Q333.6849,329.5275 333.6849,326.4025 Q333.6849,323.2775 334.9974,321.6213 Q336.3255,319.965 338.8255,319.965 Q339.5286,319.965 340.1692,320.1213 Q340.8255,320.2775 341.388,320.5744 L341.388,323.2931 Q340.763,322.715 340.1692,322.4494 Q339.5755,322.1681 338.9505,322.1681 Q337.6067,322.1681 336.9192,323.2463 Q336.2317,324.3088 336.2317,326.4025 Q336.2317,328.4963 336.9192,329.5744 Q337.6067,330.6369 338.9505,330.6369 Q339.5755,330.6369 340.1692,330.3713 Q340.763,330.09 341.388,329.5119 L341.388,332.2306 Z \" fill=\"#000000\"/><text fill=\"#000000\" font-family=\"sans-serif\" font-size=\"14\" lengthAdjust=\"spacing\" textLength=\"70.3691\" x=\"353.2213\" y=\"331.4367\">Rectangle</text><line style=\"stroke:#181818;stroke-width:0.5;\" x1=\"320.81\" x2=\"429.1996\" y1=\"342.59\" y2=\"342.59\"/><line style=\"stroke:#181818;stroke-width:0.5;\" x1=\"320.81\" x2=\"429.1996\" y1=\"350.59\" y2=\"350.59\"/><ellipse cx=\"330.81\" cy=\"364.2384\" fill=\"#84BE84\" rx=\"3\" ry=\"3\" style=\"stroke:#038048;stroke-width:1.0;\"/><text fill=\"#000000\" font-family=\"sans-serif\" font-size=\"14\" lengthAdjust=\"spacing\" textLength=\"84.3896\" x=\"339.81\" y=\"367.5851\">draw(): void</text></g><!--class Application--><g id=\"elem_Application\"><rect codeLine=\"18\" fill=\"#F1F1F1\" height=\"64.2969\" id=\"Application\" rx=\"2.5\" ry=\"2.5\" style=\"stroke:#181818;stroke-width:0.5;\" width=\"110.6973\" x=\"565.65\" y=\"7\"/><ellipse cx=\"580.8631\" cy=\"23\" fill=\"#ADD1B2\" rx=\"11\" ry=\"11\" style=\"stroke:#181818;stroke-width:1.0;\"/><path d=\"M583.8319,28.6406 Q583.2538,28.9375 582.6131,29.0781 Q581.9725,29.2344 581.2694,29.2344 Q578.7694,29.2344 577.4413,27.5938 Q576.1288,25.9375 576.1288,22.8125 Q576.1288,19.6875 577.4413,18.0313 Q578.7694,16.375 581.2694,16.375 Q581.9725,16.375 582.6131,16.5313 Q583.2694,16.6875 583.8319,16.9844 L583.8319,19.7031 Q583.2069,19.125 582.6131,18.8594 Q582.0194,18.5781 581.3944,18.5781 Q580.0506,18.5781 579.3631,19.6563 Q578.6756,20.7188 578.6756,22.8125 Q578.6756,24.9063 579.3631,25.9844 Q580.0506,27.0469 581.3944,27.0469 Q582.0194,27.0469 582.6131,26.7813 Q583.2069,26.5 583.8319,25.9219 L583.8319,28.6406 Z \" fill=\"#000000\"/><text fill=\"#000000\" font-family=\"sans-serif\" font-size=\"14\" lengthAdjust=\"spacing\" textLength=\"78.2236\" x=\"594.9105\" y=\"27.8467\">Application</text><line style=\"stroke:#181818;stroke-width:0.5;\" x1=\"566.65\" x2=\"675.3473\" y1=\"39\" y2=\"39\"/><line style=\"stroke:#181818;stroke-width:0.5;\" x1=\"566.65\" x2=\"675.3473\" y1=\"47\" y2=\"47\"/><ellipse cx=\"576.65\" cy=\"60.6484\" fill=\"#84BE84\" rx=\"3\" ry=\"3\" style=\"stroke:#038048;stroke-width:1.0;\"/><text fill=\"#000000\" font-family=\"sans-serif\" font-size=\"14\" lengthAdjust=\"spacing\" textLength=\"84.6973\" x=\"585.65\" y=\"63.9951\">main(): void</text></g><!--class ShapeFactory--><g id=\"elem_ShapeFactory\"><rect codeLine=\"21\" fill=\"#F1F1F1\" height=\"64.2969\" id=\"ShapeFactory\" rx=\"2.5\" ry=\"2.5\" style=\"stroke:#181818;stroke-width:0.5;\" width=\"156.7578\" x=\"542.62\" y=\"185.3\"/><ellipse cx=\"570.4424\" cy=\"201.3\" fill=\"#ADD1B2\" rx=\"11\" ry=\"11\" style=\"stroke:#181818;stroke-width:1.0;\"/><path d=\"M573.4111,206.9406 Q572.833,207.2375 572.1924,207.3781 Q571.5517,207.5344 570.8486,207.5344 Q568.3486,207.5344 567.0205,205.8937 Q565.708,204.2375 565.708,201.1125 Q565.708,197.9875 567.0205,196.3312 Q568.3486,194.675 570.8486,194.675 Q571.5517,194.675 572.1924,194.8312 Q572.8486,194.9875 573.4111,195.2844 L573.4111,198.0031 Q572.7861,197.425 572.1924,197.1594 Q571.5986,196.8781 570.9736,196.8781 Q569.6299,196.8781 568.9424,197.9562 Q568.2549,199.0187 568.2549,201.1125 Q568.2549,203.2062 568.9424,204.2844 Q569.6299,205.3469 570.9736,205.3469 Q571.5986,205.3469 572.1924,205.0812 Q572.7861,204.8 573.4111,204.2219 L573.4111,206.9406 Z \" fill=\"#000000\"/><text fill=\"#000000\" font-family=\"sans-serif\" font-size=\"14\" lengthAdjust=\"spacing\" textLength=\"96.2637\" x=\"587.2918\" y=\"206.1467\">ShapeFactory</text><line style=\"stroke:#181818;stroke-width:0.5;\" x1=\"543.62\" x2=\"698.3778\" y1=\"217.3\" y2=\"217.3\"/><line style=\"stroke:#181818;stroke-width:0.5;\" x1=\"543.62\" x2=\"698.3778\" y1=\"225.3\" y2=\"225.3\"/><ellipse cx=\"553.62\" cy=\"238.9484\" fill=\"#84BE84\" rx=\"3\" ry=\"3\" style=\"stroke:#038048;stroke-width:1.0;\"/><text fill=\"#000000\" font-family=\"sans-serif\" font-size=\"14\" lengthAdjust=\"spacing\" textLength=\"130.7578\" x=\"562.62\" y=\"242.2951\">getShape(): Shape</text></g><!--reverse link Shape to Circle--><g id=\"link_Shape_Circle\"><path d=\"M179.3254,261.538 C157.5854,280.018 143.91,291.65 122.15,310.15 \" fill=\"none\" id=\"Shape-backto-Circle\" style=\"stroke:#181818;stroke-width:1.0;stroke-dasharray:7.0,7.0;\"/><polygon fill=\"none\" points=\"193.04,249.88,175.4394,256.9665,183.2114,266.1096,193.04,249.88\" style=\"stroke:#181818;stroke-width:1.0;\"/></g><!--reverse link Shape to Square--><g id=\"link_Shape_Square\"><path d=\"M230,267.88 C230,286.43 230,291.83 230,310.37 \" fill=\"none\" id=\"Shape-backto-Square\" style=\"stroke:#181818;stroke-width:1.0;stroke-dasharray:7.0,7.0;\"/><polygon fill=\"none\" points=\"230,249.88,224,267.88,236,267.88,230,249.88\" style=\"stroke:#181818;stroke-width:1.0;\"/></g><!--reverse link Shape to Rectangle--><g id=\"link_Shape_Rectangle\"><path d=\"M280.6746,261.538 C302.4146,280.018 316.09,291.65 337.85,310.15 \" fill=\"none\" id=\"Shape-backto-Rectangle\" style=\"stroke:#181818;stroke-width:1.0;stroke-dasharray:7.0,7.0;\"/><polygon fill=\"none\" points=\"266.96,249.88,276.7886,266.1096,284.5606,256.9665,266.96,249.88\" style=\"stroke:#181818;stroke-width:1.0;\"/></g><!--link Application to ShapeFactory--><g id=\"link_Application_ShapeFactory\"><path codeLine=\"24\" d=\"M621,71.67 C621,103.66 621,146.9 621,178.9 \" fill=\"none\" id=\"Application-to-ShapeFactory\" style=\"stroke:#181818;stroke-width:1.0;\"/><polygon fill=\"#181818\" points=\"621,184.9,625,175.9,621,179.9,617,175.9,621,184.9\" style=\"stroke:#181818;stroke-width:1.0;\"/><text fill=\"#000000\" font-family=\"sans-serif\" font-size=\"13\" lengthAdjust=\"spacing\" textLength=\"29.0405\" x=\"626.1323\" y=\"114.3669\">asks</text></g><!--reverse link shapes to ShapeFactory--><g id=\"link_shapes_ShapeFactory\"><path codeLine=\"25\" d=\"M468.0634,217.44 C468.3593,217.44 463.1007,217.44 463.4101,217.44 C464.0289,217.44 464.6745,217.44 465.3458,217.44 C470.7159,217.44 477.7281,217.44 485.8038,217.44 C501.955,217.44 522.36,217.44 542.39,217.44 \" fill=\"none\" id=\"shapes-backto-ShapeFactory\" style=\"stroke:#181818;stroke-width:1.0;\"/><polygon fill=\"#181818\" points=\"462.0634,217.44,471.0634,221.44,467.0634,217.44,471.0634,213.44,462.0634,217.44\" style=\"stroke:#181818;stroke-width:1.0;\"/><text fill=\"#000000\" font-family=\"sans-serif\" font-size=\"13\" lengthAdjust=\"spacing\" textLength=\"48.3247\" x=\"476.6223\" y=\"210.5069\">creates</text></g><!--SRC=[XP512i8m44NNxIc6hXJf1ReGHF00zWH3EgsXQHgJKH7ftKtQOYmYNSmiVjxy_o46HOiDWRkW8GUlD4caPh8r2e8oYAC6iAiiFZRR0kwzhBmo-14AdOEZj4AjO-NrXdOTEvDWr4qqX2KAC8IrY9QTKTIHPZTLZi0S-X-8SR-C3vgWWp5A2cJPwz0gbEfGwbZgGuwN9nJSs-UCDiIZ6kXe_6sPL_b-ULa0P82kTLcQB1voHJLxUlwkmcF24ZAvx0q0]--></g></svg>"
      ],
      "text/plain": [
       "<IPython.core.display.SVG object>"
      ]
     },
     "execution_count": 2,
     "metadata": {},
     "output_type": "execute_result"
    }
   ],
   "source": [
    "%%plantuml \n",
    "\n",
    "@startuml\n",
    "\tpackage shapes {\n",
    "\t\tinterface Shape {\n",
    "\t\t  +draw(): void\n",
    "\t\t}\n",
    "\t\tclass Circle {\n",
    "\t\t  +draw(): void\n",
    "\t\t}\n",
    "\t\tclass Square {\n",
    "\t\t  +draw(): void\n",
    "\t\t}\n",
    "\t\tclass Rectangle {\n",
    "\t\t  + draw(): void\n",
    "\t  }\n",
    "\t  class Circle implements Shape\n",
    "\t  class Square implements Shape\n",
    "\t  class Rectangle implements Shape\n",
    "\t}\n",
    "\tclass Application {\n",
    "\t  + main(): void\n",
    "\t}\n",
    "\tclass ShapeFactory {\n",
    "\t  +getShape(): Shape\n",
    "\t}\n",
    "\tApplication -d-> ShapeFactory :  \" asks\"\n",
    "\tShapeFactory -left-> shapes : \" creates\"\n",
    "@enduml"
   ]
  },
  {
   "cell_type": "markdown",
   "id": "a1b879e6-a190-4d96-8571-9f0f9f94a07d",
   "metadata": {},
   "source": [
    "## An alternative Example\n",
    "- The __ShapeFactory__ class has a method for creating each shape: `getCircle()`, `getSquare()`, and `getRectangle()`"
   ]
  },
  {
   "cell_type": "code",
   "execution_count": 3,
   "id": "d9be1bef-adfd-4b46-965f-9b26202ed49f",
   "metadata": {
    "jupyter": {
     "source_hidden": true
    }
   },
   "outputs": [
    {
     "name": "stdout",
     "output_type": "stream",
     "text": [
      "Writing output for /home/doug/projects/Design-Patterns/python/c54cb608-4ed2-46cf-aa39-d05cf2f342de.uml to c54cb608-4ed2-46cf-aa39-d05cf2f342de.svg\n"
     ]
    },
    {
     "data": {
      "image/svg+xml": [
       "<svg xmlns=\"http://www.w3.org/2000/svg\" xmlns:xlink=\"http://www.w3.org/1999/xlink\" contentStyleType=\"text/css\" height=\"422px\" preserveAspectRatio=\"none\" style=\"width:733px;height:422px;background:#FFFFFF;\" version=\"1.1\" viewBox=\"0 0 733 422\" width=\"733px\" zoomAndPan=\"magnify\"><defs/><g><!--cluster shapes--><g id=\"cluster_shapes\"><path d=\"M8.5,142.3 L65.0967,142.3 A3.75,3.75 0 0 1 67.5967,144.8 L74.5967,164.5969 L459.5,164.5969 A2.5,2.5 0 0 1 462,167.0969 L462,412.69 A2.5,2.5 0 0 1 459.5,415.19 L8.5,415.19 A2.5,2.5 0 0 1 6,412.69 L6,144.8 A2.5,2.5 0 0 1 8.5,142.3 \" fill=\"none\" style=\"stroke:#000000;stroke-width:1.5;\"/><line style=\"stroke:#000000;stroke-width:1.5;\" x1=\"6\" x2=\"74.5967\" y1=\"164.5969\" y2=\"164.5969\"/><text fill=\"#000000\" font-family=\"sans-serif\" font-size=\"14\" font-weight=\"bold\" lengthAdjust=\"spacing\" textLength=\"55.5967\" x=\"10\" y=\"157.2951\">shapes</text></g><!--class Shape--><g id=\"elem_Shape\"><rect codeLine=\"2\" fill=\"#F1F1F1\" height=\"64.2969\" id=\"Shape\" rx=\"2.5\" ry=\"2.5\" style=\"stroke:#181818;stroke-width:0.5;\" width=\"110.3896\" x=\"174.81\" y=\"185.3\"/><ellipse cx=\"205.3579\" cy=\"201.3\" fill=\"#B4A7E5\" rx=\"11\" ry=\"11\" style=\"stroke:#181818;stroke-width:1.0;\"/><path d=\"M201.2797,197.0656 L201.2797,194.9094 L208.6704,194.9094 L208.6704,197.0656 L206.2016,197.0656 L206.2016,205.1438 L208.6704,205.1438 L208.6704,207.3 L201.2797,207.3 L201.2797,205.1438 L203.7485,205.1438 L203.7485,197.0656 L201.2797,197.0656 Z \" fill=\"#000000\"/><text fill=\"#000000\" font-family=\"sans-serif\" font-size=\"14\" font-style=\"italic\" lengthAdjust=\"spacing\" textLength=\"43.8389\" x=\"222.8129\" y=\"206.1467\">Shape</text><line style=\"stroke:#181818;stroke-width:0.5;\" x1=\"175.81\" x2=\"284.1996\" y1=\"217.3\" y2=\"217.3\"/><line style=\"stroke:#181818;stroke-width:0.5;\" x1=\"175.81\" x2=\"284.1996\" y1=\"225.3\" y2=\"225.3\"/><ellipse cx=\"185.81\" cy=\"238.9484\" fill=\"#84BE84\" rx=\"3\" ry=\"3\" style=\"stroke:#038048;stroke-width:1.0;\"/><text fill=\"#000000\" font-family=\"sans-serif\" font-size=\"14\" lengthAdjust=\"spacing\" textLength=\"84.3896\" x=\"194.81\" y=\"242.2951\">draw(): void</text></g><!--class Circle--><g id=\"elem_Circle\"><rect codeLine=\"14\" fill=\"#F1F1F1\" height=\"64.2969\" id=\"Circle\" rx=\"2.5\" ry=\"2.5\" style=\"stroke:#181818;stroke-width:0.5;\" width=\"110.3896\" x=\"29.81\" y=\"326.89\"/><ellipse cx=\"62.2558\" cy=\"342.89\" fill=\"#ADD1B2\" rx=\"11\" ry=\"11\" style=\"stroke:#181818;stroke-width:1.0;\"/><path d=\"M65.2246,348.5306 Q64.6465,348.8275 64.0058,348.9681 Q63.3652,349.1244 62.6621,349.1244 Q60.1621,349.1244 58.834,347.4838 Q57.5215,345.8275 57.5215,342.7025 Q57.5215,339.5775 58.834,337.9213 Q60.1621,336.265 62.6621,336.265 Q63.3652,336.265 64.0058,336.4213 Q64.6621,336.5775 65.2246,336.8744 L65.2246,339.5931 Q64.5996,339.015 64.0058,338.7494 Q63.4121,338.4681 62.7871,338.4681 Q61.4433,338.4681 60.7558,339.5463 Q60.0683,340.6088 60.0683,342.7025 Q60.0683,344.7963 60.7558,345.8744 Q61.4433,346.9369 62.7871,346.9369 Q63.4121,346.9369 64.0058,346.6713 Q64.5996,346.39 65.2246,345.8119 L65.2246,348.5306 Z \" fill=\"#000000\"/><text fill=\"#000000\" font-family=\"sans-serif\" font-size=\"14\" lengthAdjust=\"spacing\" textLength=\"39.6211\" x=\"80.1327\" y=\"347.7367\">Circle</text><line style=\"stroke:#181818;stroke-width:0.5;\" x1=\"30.81\" x2=\"139.1996\" y1=\"358.89\" y2=\"358.89\"/><line style=\"stroke:#181818;stroke-width:0.5;\" x1=\"30.81\" x2=\"139.1996\" y1=\"366.89\" y2=\"366.89\"/><ellipse cx=\"40.81\" cy=\"380.5384\" fill=\"#84BE84\" rx=\"3\" ry=\"3\" style=\"stroke:#038048;stroke-width:1.0;\"/><text fill=\"#000000\" font-family=\"sans-serif\" font-size=\"14\" lengthAdjust=\"spacing\" textLength=\"84.3896\" x=\"49.81\" y=\"383.8851\">draw(): void</text></g><!--class Square--><g id=\"elem_Square\"><rect codeLine=\"15\" fill=\"#F1F1F1\" height=\"64.2969\" id=\"Square\" rx=\"2.5\" ry=\"2.5\" style=\"stroke:#181818;stroke-width:0.5;\" width=\"110.3896\" x=\"174.81\" y=\"326.89\"/><ellipse cx=\"202.7677\" cy=\"342.89\" fill=\"#ADD1B2\" rx=\"11\" ry=\"11\" style=\"stroke:#181818;stroke-width:1.0;\"/><path d=\"M205.7365,348.5306 Q205.1583,348.8275 204.5177,348.9681 Q203.8771,349.1244 203.174,349.1244 Q200.674,349.1244 199.3458,347.4838 Q198.0333,345.8275 198.0333,342.7025 Q198.0333,339.5775 199.3458,337.9213 Q200.674,336.265 203.174,336.265 Q203.8771,336.265 204.5177,336.4213 Q205.174,336.5775 205.7365,336.8744 L205.7365,339.5931 Q205.1115,339.015 204.5177,338.7494 Q203.924,338.4681 203.299,338.4681 Q201.9552,338.4681 201.2677,339.5463 Q200.5802,340.6088 200.5802,342.7025 Q200.5802,344.7963 201.2677,345.8744 Q201.9552,346.9369 203.299,346.9369 Q203.924,346.9369 204.5177,346.6713 Q205.1115,346.39 205.7365,345.8119 L205.7365,348.5306 Z \" fill=\"#000000\"/><text fill=\"#000000\" font-family=\"sans-serif\" font-size=\"14\" lengthAdjust=\"spacing\" textLength=\"49.5947\" x=\"219.6472\" y=\"347.7367\">Square</text><line style=\"stroke:#181818;stroke-width:0.5;\" x1=\"175.81\" x2=\"284.1996\" y1=\"358.89\" y2=\"358.89\"/><line style=\"stroke:#181818;stroke-width:0.5;\" x1=\"175.81\" x2=\"284.1996\" y1=\"366.89\" y2=\"366.89\"/><ellipse cx=\"185.81\" cy=\"380.5384\" fill=\"#84BE84\" rx=\"3\" ry=\"3\" style=\"stroke:#038048;stroke-width:1.0;\"/><text fill=\"#000000\" font-family=\"sans-serif\" font-size=\"14\" lengthAdjust=\"spacing\" textLength=\"84.3896\" x=\"194.81\" y=\"383.8851\">draw(): void</text></g><!--class Rectangle--><g id=\"elem_Rectangle\"><rect codeLine=\"16\" fill=\"#F1F1F1\" height=\"64.2969\" id=\"Rectangle\" rx=\"2.5\" ry=\"2.5\" style=\"stroke:#181818;stroke-width:0.5;\" width=\"110.3896\" x=\"319.81\" y=\"326.89\"/><ellipse cx=\"338.4192\" cy=\"342.89\" fill=\"#ADD1B2\" rx=\"11\" ry=\"11\" style=\"stroke:#181818;stroke-width:1.0;\"/><path d=\"M341.388,348.5306 Q340.8099,348.8275 340.1692,348.9681 Q339.5286,349.1244 338.8255,349.1244 Q336.3255,349.1244 334.9974,347.4838 Q333.6849,345.8275 333.6849,342.7025 Q333.6849,339.5775 334.9974,337.9213 Q336.3255,336.265 338.8255,336.265 Q339.5286,336.265 340.1692,336.4213 Q340.8255,336.5775 341.388,336.8744 L341.388,339.5931 Q340.763,339.015 340.1692,338.7494 Q339.5755,338.4681 338.9505,338.4681 Q337.6067,338.4681 336.9192,339.5463 Q336.2317,340.6088 336.2317,342.7025 Q336.2317,344.7963 336.9192,345.8744 Q337.6067,346.9369 338.9505,346.9369 Q339.5755,346.9369 340.1692,346.6713 Q340.763,346.39 341.388,345.8119 L341.388,348.5306 Z \" fill=\"#000000\"/><text fill=\"#000000\" font-family=\"sans-serif\" font-size=\"14\" lengthAdjust=\"spacing\" textLength=\"70.3691\" x=\"353.2213\" y=\"347.7367\">Rectangle</text><line style=\"stroke:#181818;stroke-width:0.5;\" x1=\"320.81\" x2=\"429.1996\" y1=\"358.89\" y2=\"358.89\"/><line style=\"stroke:#181818;stroke-width:0.5;\" x1=\"320.81\" x2=\"429.1996\" y1=\"366.89\" y2=\"366.89\"/><ellipse cx=\"330.81\" cy=\"380.5384\" fill=\"#84BE84\" rx=\"3\" ry=\"3\" style=\"stroke:#038048;stroke-width:1.0;\"/><text fill=\"#000000\" font-family=\"sans-serif\" font-size=\"14\" lengthAdjust=\"spacing\" textLength=\"84.3896\" x=\"339.81\" y=\"383.8851\">draw(): void</text></g><!--class Application--><g id=\"elem_Application\"><rect codeLine=\"18\" fill=\"#F1F1F1\" height=\"64.2969\" id=\"Application\" rx=\"2.5\" ry=\"2.5\" style=\"stroke:#181818;stroke-width:0.5;\" width=\"110.6973\" x=\"579.65\" y=\"7\"/><ellipse cx=\"594.8631\" cy=\"23\" fill=\"#ADD1B2\" rx=\"11\" ry=\"11\" style=\"stroke:#181818;stroke-width:1.0;\"/><path d=\"M597.8319,28.6406 Q597.2538,28.9375 596.6131,29.0781 Q595.9725,29.2344 595.2694,29.2344 Q592.7694,29.2344 591.4413,27.5938 Q590.1288,25.9375 590.1288,22.8125 Q590.1288,19.6875 591.4413,18.0313 Q592.7694,16.375 595.2694,16.375 Q595.9725,16.375 596.6131,16.5313 Q597.2694,16.6875 597.8319,16.9844 L597.8319,19.7031 Q597.2069,19.125 596.6131,18.8594 Q596.0194,18.5781 595.3944,18.5781 Q594.0506,18.5781 593.3631,19.6563 Q592.6756,20.7188 592.6756,22.8125 Q592.6756,24.9063 593.3631,25.9844 Q594.0506,27.0469 595.3944,27.0469 Q596.0194,27.0469 596.6131,26.7813 Q597.2069,26.5 597.8319,25.9219 L597.8319,28.6406 Z \" fill=\"#000000\"/><text fill=\"#000000\" font-family=\"sans-serif\" font-size=\"14\" lengthAdjust=\"spacing\" textLength=\"78.2236\" x=\"608.9105\" y=\"27.8467\">Application</text><line style=\"stroke:#181818;stroke-width:0.5;\" x1=\"580.65\" x2=\"689.3473\" y1=\"39\" y2=\"39\"/><line style=\"stroke:#181818;stroke-width:0.5;\" x1=\"580.65\" x2=\"689.3473\" y1=\"47\" y2=\"47\"/><ellipse cx=\"590.65\" cy=\"60.6484\" fill=\"#84BE84\" rx=\"3\" ry=\"3\" style=\"stroke:#038048;stroke-width:1.0;\"/><text fill=\"#000000\" font-family=\"sans-serif\" font-size=\"14\" lengthAdjust=\"spacing\" textLength=\"84.6973\" x=\"599.65\" y=\"63.9951\">main(): void</text></g><!--class ShapeFactory--><g id=\"elem_ShapeFactory\"><rect codeLine=\"21\" fill=\"#F1F1F1\" height=\"96.8906\" id=\"ShapeFactory\" rx=\"2.5\" ry=\"2.5\" style=\"stroke:#181818;stroke-width:0.5;\" width=\"183.2881\" x=\"543.36\" y=\"169\"/><ellipse cx=\"583.121\" cy=\"185\" fill=\"#ADD1B2\" rx=\"11\" ry=\"11\" style=\"stroke:#181818;stroke-width:1.0;\"/><path d=\"M586.0897,190.6406 Q585.5116,190.9375 584.871,191.0781 Q584.2304,191.2344 583.5272,191.2344 Q581.0272,191.2344 579.6991,189.5938 Q578.3866,187.9375 578.3866,184.8125 Q578.3866,181.6875 579.6991,180.0313 Q581.0272,178.375 583.5272,178.375 Q584.2304,178.375 584.871,178.5313 Q585.5272,178.6875 586.0897,178.9844 L586.0897,181.7031 Q585.4647,181.125 584.871,180.8594 Q584.2772,180.5781 583.6522,180.5781 Q582.3085,180.5781 581.621,181.6563 Q580.9335,182.7188 580.9335,184.8125 Q580.9335,186.9063 581.621,187.9844 Q582.3085,189.0469 583.6522,189.0469 Q584.2772,189.0469 584.871,188.7813 Q585.4647,188.5 586.0897,187.9219 L586.0897,190.6406 Z \" fill=\"#000000\"/><text fill=\"#000000\" font-family=\"sans-serif\" font-size=\"14\" lengthAdjust=\"spacing\" textLength=\"96.2637\" x=\"602.6234\" y=\"189.8467\">ShapeFactory</text><line style=\"stroke:#181818;stroke-width:0.5;\" x1=\"544.36\" x2=\"725.6481\" y1=\"201\" y2=\"201\"/><line style=\"stroke:#181818;stroke-width:0.5;\" x1=\"544.36\" x2=\"725.6481\" y1=\"209\" y2=\"209\"/><ellipse cx=\"554.36\" cy=\"222.6484\" fill=\"#84BE84\" rx=\"3\" ry=\"3\" style=\"stroke:#038048;stroke-width:1.0;\"/><text fill=\"#000000\" font-family=\"sans-serif\" font-size=\"14\" lengthAdjust=\"spacing\" textLength=\"126.54\" x=\"563.36\" y=\"225.9951\">getCircle(): Shape</text><ellipse cx=\"554.36\" cy=\"238.9453\" fill=\"#84BE84\" rx=\"3\" ry=\"3\" style=\"stroke:#038048;stroke-width:1.0;\"/><text fill=\"#000000\" font-family=\"sans-serif\" font-size=\"14\" lengthAdjust=\"spacing\" textLength=\"136.5137\" x=\"563.36\" y=\"242.292\">getSquare(): Shape</text><ellipse cx=\"554.36\" cy=\"255.2422\" fill=\"#84BE84\" rx=\"3\" ry=\"3\" style=\"stroke:#038048;stroke-width:1.0;\"/><text fill=\"#000000\" font-family=\"sans-serif\" font-size=\"14\" lengthAdjust=\"spacing\" textLength=\"157.2881\" x=\"563.36\" y=\"258.5889\">getRectangle(): Shape</text></g><!--reverse link Shape to Circle--><g id=\"link_Shape_Circle\"><path d=\"M184.4892,262.2603 C160.6892,285.1603 141.51,303.64 117.68,326.58 \" fill=\"none\" id=\"Shape-backto-Circle\" style=\"stroke:#181818;stroke-width:1.0;stroke-dasharray:7.0,7.0;\"/><polygon fill=\"none\" points=\"197.46,249.78,180.3291,257.9367,188.6493,266.5839,197.46,249.78\" style=\"stroke:#181818;stroke-width:1.0;\"/></g><!--reverse link Shape to Square--><g id=\"link_Shape_Square\"><path d=\"M230,267.78 C230,290.77 230,303.85 230,326.82 \" fill=\"none\" id=\"Shape-backto-Square\" style=\"stroke:#181818;stroke-width:1.0;stroke-dasharray:7.0,7.0;\"/><polygon fill=\"none\" points=\"230,249.78,224,267.78,236,267.78,230,249.78\" style=\"stroke:#181818;stroke-width:1.0;\"/></g><!--reverse link Shape to Rectangle--><g id=\"link_Shape_Rectangle\"><path d=\"M275.5108,262.2603 C299.3108,285.1603 318.49,303.64 342.32,326.58 \" fill=\"none\" id=\"Shape-backto-Rectangle\" style=\"stroke:#181818;stroke-width:1.0;stroke-dasharray:7.0,7.0;\"/><polygon fill=\"none\" points=\"262.54,249.78,271.3507,266.5839,279.6709,257.9367,262.54,249.78\" style=\"stroke:#181818;stroke-width:1.0;\"/></g><!--link Application to ShapeFactory--><g id=\"link_Application_ShapeFactory\"><path codeLine=\"26\" d=\"M635,71.67 C635,98.61 635,131.79 635,162.59 \" fill=\"none\" id=\"Application-to-ShapeFactory\" style=\"stroke:#181818;stroke-width:1.0;\"/><polygon fill=\"#181818\" points=\"635,168.59,639,159.59,635,163.59,631,159.59,635,168.59\" style=\"stroke:#181818;stroke-width:1.0;\"/><text fill=\"#000000\" font-family=\"sans-serif\" font-size=\"13\" lengthAdjust=\"spacing\" textLength=\"29.0405\" x=\"640.1323\" y=\"114.3669\">asks</text></g><!--reverse link shapes to ShapeFactory--><g id=\"link_shapes_ShapeFactory\"><path codeLine=\"27\" d=\"M468.133,217.45 C468.4269,217.45 463.1636,217.45 463.4709,217.45 C464.0857,217.45 464.7268,217.45 465.3934,217.45 C470.7263,217.45 477.6863,217.45 485.74,217.45 C501.8475,217.45 522.33,217.45 542.92,217.45 \" fill=\"none\" id=\"shapes-backto-ShapeFactory\" style=\"stroke:#181818;stroke-width:1.0;\"/><polygon fill=\"#181818\" points=\"462.133,217.45,471.133,221.45,467.133,217.45,471.133,213.45,462.133,217.45\" style=\"stroke:#181818;stroke-width:1.0;\"/><text fill=\"#000000\" font-family=\"sans-serif\" font-size=\"13\" lengthAdjust=\"spacing\" textLength=\"48.3247\" x=\"476.9923\" y=\"210.5169\">creates</text></g><!--SRC=[XP7H2i8W58QljwSuxAg8lS0kWWXwWFO41tUsPCwPMX6nTq_dc8sA2Nfn_a__3rJ8Mcm8p0KL6NYbISAb9LqZ8oZzS9m1x2gDZyssW7lFApSPt6O2ZO4ZrqoiO-NrXdeTEnEpA9lu82nHWC4VYshUAK4TIMk2SWIcqlz0hFjcN5603ae9pj3oNdehBzKXbr5g9iUR9sIsryy9RSW6JO-7bs5SFWb-lv9PB8Q-vbCbh_Bzih40o01DQx8qMGIveDewUlhcmc5C4reosHi0]--></g></svg>"
      ],
      "text/plain": [
       "<IPython.core.display.SVG object>"
      ]
     },
     "execution_count": 3,
     "metadata": {},
     "output_type": "execute_result"
    }
   ],
   "source": [
    "%%plantuml \n",
    "\n",
    "@startuml\n",
    "\tpackage shapes {\n",
    "\t\tinterface Shape {\n",
    "\t\t  +draw(): void\n",
    "\t\t}\n",
    "\t\tclass Circle {\n",
    "\t\t  +draw(): void\n",
    "\t\t}\n",
    "\t\tclass Square {\n",
    "\t\t  +draw(): void\n",
    "\t\t}\n",
    "\t\tclass Rectangle {\n",
    "\t\t  + draw(): void\n",
    "\t  }\n",
    "\t  class Circle implements Shape\n",
    "\t  class Square implements Shape\n",
    "\t  class Rectangle implements Shape\n",
    "\t}\n",
    "\tclass Application {\n",
    "\t  + main(): void\n",
    "\t}\n",
    "\tclass ShapeFactory {\n",
    "\t  +getCircle(): Shape\n",
    "      +getSquare(): Shape\n",
    "      +getRectangle(): Shape\n",
    "\t}\n",
    "\tApplication -d-> ShapeFactory :  \" asks\"\n",
    "\tShapeFactory -left-> shapes : \" creates\"\n",
    "@enduml"
   ]
  },
  {
   "cell_type": "markdown",
   "id": "e187742b-f794-4a90-a399-92813ca4fdeb",
   "metadata": {},
   "source": [
    "## Implementations\n",
    "We can implement our interface and concrete classes as follows:"
   ]
  },
  {
   "cell_type": "code",
   "execution_count": 4,
   "id": "683c50b6-29cc-4266-8ac7-89ce9ce888eb",
   "metadata": {},
   "outputs": [],
   "source": [
    "class IShape:\n",
    "    def draw(self): pass\n",
    "\n",
    "class Circle(IShape):\n",
    "    def draw(self):\n",
    "        print(\"Circle.draw\")\n",
    "\n",
    "class Square(IShape):\n",
    "    def draw(self):\n",
    "        print(\"Square.draw\")\n",
    "\n",
    "class Rectangle(IShape):\n",
    "    def draw(self):\n",
    "        print(\"Rectangle.draw\")"
   ]
  },
  {
   "cell_type": "markdown",
   "id": "90078380-4784-4b95-95cd-be907ee06362",
   "metadata": {},
   "source": [
    "And Now, we can implement the Factory"
   ]
  },
  {
   "cell_type": "code",
   "execution_count": 5,
   "id": "bb209abd-ec64-4a5b-95c1-d860bfa3851c",
   "metadata": {},
   "outputs": [],
   "source": [
    "class ShapeFactory:\n",
    "    @staticmethod\n",
    "    def getShape(type):\n",
    "        if type == 'circle':\n",
    "            return Circle()\n",
    "        if type == 'square':\n",
    "            return Square()\n",
    "        if type == 'rectangle':\n",
    "            return Rectangle()\n",
    "        assert 0, \"Could not find shape\""
   ]
  },
  {
   "cell_type": "markdown",
   "id": "16188bc4-a668-461a-b780-693faa3d6bdd",
   "metadata": {},
   "source": [
    "And now, we can use our Factory to create some shapes"
   ]
  },
  {
   "cell_type": "code",
   "execution_count": 6,
   "id": "b040fe7e-c15f-4d64-b6a8-61cfad81d5c9",
   "metadata": {},
   "outputs": [
    {
     "name": "stdout",
     "output_type": "stream",
     "text": [
      "Circle.draw\n",
      "Square.draw\n",
      "Rectangle.draw\n"
     ]
    }
   ],
   "source": [
    "shape_factory = ShapeFactory()\n",
    "circle = shape_factory.getShape('circle')\n",
    "square = shape_factory.getShape('square')\n",
    "rectangle = shape_factory.getShape('rectangle')\n",
    "\n",
    "circle.draw()\n",
    "square.draw()\n",
    "rectangle.draw()"
   ]
  },
  {
   "cell_type": "markdown",
   "id": "2243d209-8fbd-494f-acb9-86274f3a60d3",
   "metadata": {},
   "source": [
    "If we try to instantiate a shape that does not exist:"
   ]
  },
  {
   "cell_type": "code",
   "execution_count": 7,
   "id": "e50539a2-572c-4139-8cd9-3ce8d8e307e7",
   "metadata": {},
   "outputs": [
    {
     "ename": "AssertionError",
     "evalue": "Could not find shape",
     "output_type": "error",
     "traceback": [
      "\u001b[0;31m---------------------------------------------------------------------------\u001b[0m",
      "\u001b[0;31mAssertionError\u001b[0m                            Traceback (most recent call last)",
      "Cell \u001b[0;32mIn[7], line 1\u001b[0m\n\u001b[0;32m----> 1\u001b[0m \u001b[43mshape_factory\u001b[49m\u001b[38;5;241;43m.\u001b[39;49m\u001b[43mgetShape\u001b[49m\u001b[43m(\u001b[49m\u001b[38;5;124;43m'\u001b[39;49m\u001b[38;5;124;43mtriangle\u001b[39;49m\u001b[38;5;124;43m'\u001b[39;49m\u001b[43m)\u001b[49m\n",
      "Cell \u001b[0;32mIn[5], line 10\u001b[0m, in \u001b[0;36mShapeFactory.getShape\u001b[0;34m(type)\u001b[0m\n\u001b[1;32m      8\u001b[0m \u001b[38;5;28;01mif\u001b[39;00m \u001b[38;5;28mtype\u001b[39m \u001b[38;5;241m==\u001b[39m \u001b[38;5;124m'\u001b[39m\u001b[38;5;124mrectangle\u001b[39m\u001b[38;5;124m'\u001b[39m:\n\u001b[1;32m      9\u001b[0m     \u001b[38;5;28;01mreturn\u001b[39;00m Rectangle()\n\u001b[0;32m---> 10\u001b[0m \u001b[38;5;28;01massert\u001b[39;00m \u001b[38;5;241m0\u001b[39m, \u001b[38;5;124m\"\u001b[39m\u001b[38;5;124mCould not find shape\u001b[39m\u001b[38;5;124m\"\u001b[39m\n",
      "\u001b[0;31mAssertionError\u001b[0m: Could not find shape"
     ]
    }
   ],
   "source": [
    "shape_factory.getShape('triangle')"
   ]
  },
  {
   "cell_type": "markdown",
   "id": "5412f323-87f3-48c2-84cd-a0e41563728b",
   "metadata": {},
   "source": [
    "The alternative implementation may be better as there is no way to attempt to instantiate a non-existant shape."
   ]
  },
  {
   "cell_type": "code",
   "execution_count": null,
   "id": "4b2c2c5f-1abc-43f4-8f5f-2407cee16ecd",
   "metadata": {},
   "outputs": [],
   "source": [
    "class ShapeFactory:\n",
    "    @staticmethod\n",
    "    def getCircle():\n",
    "        return Circle()\n",
    "\n",
    "    @staticmethod\n",
    "    def getSquare():\n",
    "        return Square()\n",
    "\n",
    "    @staticmethod\n",
    "    def getRectangle():\n",
    "        return Rectangle()"
   ]
  },
  {
   "cell_type": "code",
   "execution_count": null,
   "id": "eb361431-2441-428c-9b55-35bdb171b9fc",
   "metadata": {},
   "outputs": [],
   "source": [
    "shape_factory = ShapeFactory()\n",
    "circle = ShapeFactory.getCircle()\n",
    "square = ShapeFactory.getSquare()\n",
    "rectangle = ShapeFactory.getRectangle()\n",
    "\n",
    "circle.draw()\n",
    "square.draw()\n",
    "rectangle.draw()"
   ]
  },
  {
   "cell_type": "code",
   "execution_count": null,
   "id": "fe34e130-32a4-4b83-9939-8a6f30f2cd88",
   "metadata": {},
   "outputs": [],
   "source": [
    "shape_factory.getTriangle()"
   ]
  }
 ],
 "metadata": {
  "kernelspec": {
   "display_name": "Python 3 (ipykernel)",
   "language": "python",
   "name": "python3"
  },
  "language_info": {
   "codemirror_mode": {
    "name": "ipython",
    "version": 3
   },
   "file_extension": ".py",
   "mimetype": "text/x-python",
   "name": "python",
   "nbconvert_exporter": "python",
   "pygments_lexer": "ipython3",
   "version": "3.12.3"
  }
 },
 "nbformat": 4,
 "nbformat_minor": 5
}
